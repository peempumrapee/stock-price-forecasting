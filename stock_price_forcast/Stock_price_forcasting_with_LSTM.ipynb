{
  "nbformat": 4,
  "nbformat_minor": 0,
  "metadata": {
    "colab": {
      "name": "Stock price forcasting with LSTM.ipynb",
      "version": "0.3.2",
      "provenance": [],
      "collapsed_sections": []
    },
    "kernelspec": {
      "name": "python3",
      "display_name": "Python 3"
    },
    "accelerator": "GPU"
  },
  "cells": [
    {
      "metadata": {
        "id": "aIHLnFzEhSms",
        "colab_type": "text"
      },
      "cell_type": "markdown",
      "source": [
        "**Stock price forcasting with LSTM**\n",
        "\n",
        "This is my project to forcast close price of stock market based on LSTM.\n",
        "I use yahoo api for getting stock data and develop forcasting model based on Keras on Python 3.\n",
        "The result of this model isn't good enougth but this is the case study about how to use deep learning to analyze time series data."
      ]
    },
    {
      "metadata": {
        "id": "uEFv2iTtKfBp",
        "colab_type": "code",
        "colab": {}
      },
      "cell_type": "code",
      "source": [
        "import numpy as np\n",
        "import pandas as pd\n",
        "import matplotlib.pyplot as plt\n",
        "import seaborn as sns\n",
        "import tensorflow as tf\n",
        "from tensorflow import keras\n",
        "from pandas_datareader import data\n",
        "from datetime import datetime\n",
        "\n",
        "%matplotlib inline"
      ],
      "execution_count": 0,
      "outputs": []
    },
    {
      "metadata": {
        "id": "_YPcZ1o-Ku6_",
        "colab_type": "code",
        "colab": {}
      },
      "cell_type": "code",
      "source": [
        "# Define the Stock and number of days for sliced windows.\n",
        "stock_name = 'AAPL'\n",
        "day = 90\n",
        "\n",
        "start_date = datetime(2010, 1, 1)\n",
        "end_date = datetime(2019, 2, 28)\n",
        "\n",
        "date_for_split_train_test = datetime(2018, 12, 31)\n",
        "\n",
        "###################################################"
      ],
      "execution_count": 0,
      "outputs": []
    },
    {
      "metadata": {
        "id": "LPtjeTliMSnv",
        "colab_type": "code",
        "outputId": "2313259a-bcc9-44a0-8921-0b7254059bf8",
        "colab": {
          "base_uri": "https://localhost:8080/",
          "height": 235
        }
      },
      "cell_type": "code",
      "source": [
        "stock = data.DataReader(stock_name, 'yahoo', start_date, end_date)\n",
        "stock.head()"
      ],
      "execution_count": 21,
      "outputs": [
        {
          "output_type": "execute_result",
          "data": {
            "text/html": [
              "<div>\n",
              "<style scoped>\n",
              "    .dataframe tbody tr th:only-of-type {\n",
              "        vertical-align: middle;\n",
              "    }\n",
              "\n",
              "    .dataframe tbody tr th {\n",
              "        vertical-align: top;\n",
              "    }\n",
              "\n",
              "    .dataframe thead th {\n",
              "        text-align: right;\n",
              "    }\n",
              "</style>\n",
              "<table border=\"1\" class=\"dataframe\">\n",
              "  <thead>\n",
              "    <tr style=\"text-align: right;\">\n",
              "      <th></th>\n",
              "      <th>High</th>\n",
              "      <th>Low</th>\n",
              "      <th>Open</th>\n",
              "      <th>Close</th>\n",
              "      <th>Volume</th>\n",
              "      <th>Adj Close</th>\n",
              "    </tr>\n",
              "    <tr>\n",
              "      <th>Date</th>\n",
              "      <th></th>\n",
              "      <th></th>\n",
              "      <th></th>\n",
              "      <th></th>\n",
              "      <th></th>\n",
              "      <th></th>\n",
              "    </tr>\n",
              "  </thead>\n",
              "  <tbody>\n",
              "    <tr>\n",
              "      <th>2010-01-04</th>\n",
              "      <td>30.642857</td>\n",
              "      <td>30.340000</td>\n",
              "      <td>30.490000</td>\n",
              "      <td>30.572857</td>\n",
              "      <td>123432400.0</td>\n",
              "      <td>20.386072</td>\n",
              "    </tr>\n",
              "    <tr>\n",
              "      <th>2010-01-05</th>\n",
              "      <td>30.798571</td>\n",
              "      <td>30.464285</td>\n",
              "      <td>30.657143</td>\n",
              "      <td>30.625713</td>\n",
              "      <td>150476200.0</td>\n",
              "      <td>20.421322</td>\n",
              "    </tr>\n",
              "    <tr>\n",
              "      <th>2010-01-06</th>\n",
              "      <td>30.747143</td>\n",
              "      <td>30.107143</td>\n",
              "      <td>30.625713</td>\n",
              "      <td>30.138571</td>\n",
              "      <td>138040000.0</td>\n",
              "      <td>20.096491</td>\n",
              "    </tr>\n",
              "    <tr>\n",
              "      <th>2010-01-07</th>\n",
              "      <td>30.285715</td>\n",
              "      <td>29.864286</td>\n",
              "      <td>30.250000</td>\n",
              "      <td>30.082857</td>\n",
              "      <td>119282800.0</td>\n",
              "      <td>20.059338</td>\n",
              "    </tr>\n",
              "    <tr>\n",
              "      <th>2010-01-08</th>\n",
              "      <td>30.285715</td>\n",
              "      <td>29.865715</td>\n",
              "      <td>30.042856</td>\n",
              "      <td>30.282858</td>\n",
              "      <td>111902700.0</td>\n",
              "      <td>20.192701</td>\n",
              "    </tr>\n",
              "  </tbody>\n",
              "</table>\n",
              "</div>"
            ],
            "text/plain": [
              "                 High        Low       Open      Close       Volume  Adj Close\n",
              "Date                                                                          \n",
              "2010-01-04  30.642857  30.340000  30.490000  30.572857  123432400.0  20.386072\n",
              "2010-01-05  30.798571  30.464285  30.657143  30.625713  150476200.0  20.421322\n",
              "2010-01-06  30.747143  30.107143  30.625713  30.138571  138040000.0  20.096491\n",
              "2010-01-07  30.285715  29.864286  30.250000  30.082857  119282800.0  20.059338\n",
              "2010-01-08  30.285715  29.865715  30.042856  30.282858  111902700.0  20.192701"
            ]
          },
          "metadata": {
            "tags": []
          },
          "execution_count": 21
        }
      ]
    },
    {
      "metadata": {
        "id": "CF1OlsMDLtc9",
        "colab_type": "code",
        "colab": {}
      },
      "cell_type": "code",
      "source": [
        "# Preprocess data\n",
        "stock = data.DataReader(stock_name, 'yahoo', start_date, end_date)\n",
        "\n",
        "training_set = stock.reset_index()\n",
        "training_set = training_set[training_set['Date'] <= date_for_split_train_test][['Date', 'Close']]\n",
        "\n",
        "test_set = stock.reset_index()\n",
        "test_set = test_set[test_set['Date'] > date_for_split_train_test][['Date', 'Close']]\n",
        "\n",
        "test_set = test_set.reset_index()\n",
        "test_set = test_set.drop(columns=['index'])"
      ],
      "execution_count": 0,
      "outputs": []
    },
    {
      "metadata": {
        "id": "K2jQe1qnSEPV",
        "colab_type": "code",
        "colab": {}
      },
      "cell_type": "code",
      "source": [
        "def feature_generate(data, day):\n",
        "  feature = []\n",
        "\n",
        "  for i in range(0, data.shape[0] - day):\n",
        "    temp = data['Close'][i:i+day].values\n",
        "    feature.append(temp)\n",
        "\n",
        "  feature = np.asarray(feature)\n",
        "  feature = np.reshape(feature, (feature.shape[0], feature.shape[1], 1))\n",
        "  \n",
        "  return feature\n",
        "\n",
        "def target_generate(data, day):\n",
        "  target = []\n",
        "\n",
        "  for i in range(day, data.shape[0]):\n",
        "    temp = data['Close'][i]\n",
        "    target.append(temp)\n",
        "\n",
        "  target = np.asarray(target)\n",
        "  target = np.reshape(target, (target.shape[0], 1))\n",
        "  \n",
        "  return target\n",
        "\n",
        "def test_generate(data, day):\n",
        "  test = []\n",
        "  \n",
        "  for i in range(data.shape[0] - day, data.shape[0]):\n",
        "    temp = data['Close'][i]\n",
        "    test.append(temp)\n",
        "    \n",
        "  test = np.asarray(test)\n",
        "  test = np.reshape(test, (test.shape[0], 1))\n",
        "  \n",
        "  return test  "
      ],
      "execution_count": 0,
      "outputs": []
    },
    {
      "metadata": {
        "id": "iFESZBVgvj4E",
        "colab_type": "code",
        "outputId": "32bac10a-c2a6-4eb2-99c2-3774cd274810",
        "colab": {
          "base_uri": "https://localhost:8080/",
          "height": 85
        }
      },
      "cell_type": "code",
      "source": [
        "x_train = feature_generate(training_set, day)\n",
        "y_train = target_generate(training_set, day)\n",
        "\n",
        "x_test = test_generate(training_set, day)\n",
        "x_test_temp = np.reshape(x_test, (1, day, 1))\n",
        "\n",
        "y_test = test_set['Close']\n",
        "\n",
        "print(x_train.shape)\n",
        "print(y_train.shape)\n",
        "print(x_test.shape)\n",
        "print(y_test.shape)"
      ],
      "execution_count": 24,
      "outputs": [
        {
          "output_type": "stream",
          "text": [
            "(2174, 90, 1)\n",
            "(2174, 1)\n",
            "(90, 1)\n",
            "(40,)\n"
          ],
          "name": "stdout"
        }
      ]
    },
    {
      "metadata": {
        "id": "-noKpDZeNGzF",
        "colab_type": "code",
        "outputId": "3788fe80-e7b6-4673-917f-ddfa03f700b7",
        "colab": {
          "base_uri": "https://localhost:8080/",
          "height": 3434
        }
      },
      "cell_type": "code",
      "source": [
        "# Develop model with LSTM.\n",
        "model = keras.Sequential()\n",
        "\n",
        "model.add(keras.layers.CuDNNLSTM(units=day*2, return_sequences=True, input_shape=(x_train.shape[1], 1)))\n",
        "model.add(keras.layers.Dropout(0.2))\n",
        "\n",
        "model.add(keras.layers.CuDNNLSTM(units=day*4, return_sequences=True))\n",
        "model.add(keras.layers.Dropout(0.2))\n",
        "\n",
        "model.add(keras.layers.CuDNNLSTM(units=day*4, return_sequences=True))\n",
        "model.add(keras.layers.Dropout(0.2))\n",
        "\n",
        "model.add(keras.layers.CuDNNLSTM(units=day*2))\n",
        "model.add(keras.layers.Dropout(0.2))\n",
        "\n",
        "model.add(keras.layers.Dense(1, activation='linear'))\n",
        "\n",
        "model.compile(loss='mean_squared_error', optimizer='adam')\n",
        "model.fit(x_train, y_train, epochs=100, batch_size=32)"
      ],
      "execution_count": 25,
      "outputs": [
        {
          "output_type": "stream",
          "text": [
            "Epoch 1/100\n",
            "2174/2174 [==============================] - 11s 5ms/sample - loss: 8940.2010\n",
            "Epoch 2/100\n",
            "2174/2174 [==============================] - 8s 4ms/sample - loss: 6982.4143\n",
            "Epoch 3/100\n",
            "2174/2174 [==============================] - 8s 4ms/sample - loss: 5588.5658\n",
            "Epoch 4/100\n",
            "2174/2174 [==============================] - 8s 4ms/sample - loss: 4544.5170\n",
            "Epoch 5/100\n",
            "2174/2174 [==============================] - 8s 4ms/sample - loss: 3775.6717\n",
            "Epoch 6/100\n",
            "2174/2174 [==============================] - 8s 4ms/sample - loss: 3204.0129\n",
            "Epoch 7/100\n",
            "2174/2174 [==============================] - 8s 4ms/sample - loss: 2793.9757\n",
            "Epoch 8/100\n",
            "2174/2174 [==============================] - 8s 4ms/sample - loss: 2517.5593\n",
            "Epoch 9/100\n",
            "2174/2174 [==============================] - 8s 4ms/sample - loss: 2336.1439\n",
            "Epoch 10/100\n",
            "2174/2174 [==============================] - 8s 4ms/sample - loss: 2230.1812\n",
            "Epoch 11/100\n",
            "2174/2174 [==============================] - 8s 4ms/sample - loss: 2164.2571\n",
            "Epoch 12/100\n",
            "2174/2174 [==============================] - 8s 4ms/sample - loss: 2138.9385\n",
            "Epoch 13/100\n",
            "2174/2174 [==============================] - 8s 4ms/sample - loss: 2117.6138\n",
            "Epoch 14/100\n",
            "2174/2174 [==============================] - 8s 4ms/sample - loss: 2113.9209\n",
            "Epoch 15/100\n",
            "2174/2174 [==============================] - 8s 4ms/sample - loss: 2106.3804\n",
            "Epoch 16/100\n",
            "2174/2174 [==============================] - 8s 4ms/sample - loss: 2084.3252\n",
            "Epoch 17/100\n",
            "2174/2174 [==============================] - 8s 4ms/sample - loss: 2092.8538\n",
            "Epoch 18/100\n",
            "2174/2174 [==============================] - 8s 4ms/sample - loss: 2108.7663\n",
            "Epoch 19/100\n",
            "2174/2174 [==============================] - 8s 4ms/sample - loss: 2094.8503\n",
            "Epoch 20/100\n",
            "2174/2174 [==============================] - 8s 4ms/sample - loss: 2101.7356\n",
            "Epoch 21/100\n",
            "2174/2174 [==============================] - 8s 4ms/sample - loss: 2109.3535\n",
            "Epoch 22/100\n",
            "2174/2174 [==============================] - 8s 4ms/sample - loss: 2092.4925\n",
            "Epoch 23/100\n",
            "2174/2174 [==============================] - 8s 4ms/sample - loss: 2086.3078\n",
            "Epoch 24/100\n",
            "2174/2174 [==============================] - 8s 4ms/sample - loss: 2092.1583\n",
            "Epoch 25/100\n",
            "2174/2174 [==============================] - 8s 4ms/sample - loss: 2090.5948\n",
            "Epoch 26/100\n",
            "2174/2174 [==============================] - 8s 4ms/sample - loss: 2103.6820\n",
            "Epoch 27/100\n",
            "2174/2174 [==============================] - 8s 4ms/sample - loss: 2093.2823\n",
            "Epoch 28/100\n",
            "2174/2174 [==============================] - 8s 4ms/sample - loss: 2092.2661\n",
            "Epoch 29/100\n",
            "2174/2174 [==============================] - 8s 4ms/sample - loss: 2094.4527\n",
            "Epoch 30/100\n",
            "2174/2174 [==============================] - 8s 4ms/sample - loss: 2091.8876\n",
            "Epoch 31/100\n",
            "2174/2174 [==============================] - 8s 4ms/sample - loss: 2081.2727\n",
            "Epoch 32/100\n",
            "2174/2174 [==============================] - 8s 4ms/sample - loss: 2106.7817\n",
            "Epoch 33/100\n",
            "2174/2174 [==============================] - 8s 4ms/sample - loss: 2093.9831\n",
            "Epoch 34/100\n",
            "2174/2174 [==============================] - 8s 4ms/sample - loss: 2097.2620\n",
            "Epoch 35/100\n",
            "2174/2174 [==============================] - 8s 4ms/sample - loss: 2089.6061\n",
            "Epoch 36/100\n",
            "2174/2174 [==============================] - 8s 4ms/sample - loss: 2099.1145\n",
            "Epoch 37/100\n",
            "2174/2174 [==============================] - 8s 4ms/sample - loss: 2094.4063\n",
            "Epoch 38/100\n",
            "2174/2174 [==============================] - 8s 4ms/sample - loss: 2090.7986\n",
            "Epoch 39/100\n",
            "2174/2174 [==============================] - 8s 4ms/sample - loss: 2094.3476\n",
            "Epoch 40/100\n",
            "2174/2174 [==============================] - 8s 4ms/sample - loss: 2107.9773\n",
            "Epoch 41/100\n",
            "2174/2174 [==============================] - 8s 4ms/sample - loss: 2184.2031\n",
            "Epoch 42/100\n",
            "2174/2174 [==============================] - 8s 4ms/sample - loss: 2238.8124\n",
            "Epoch 43/100\n",
            "2174/2174 [==============================] - 8s 4ms/sample - loss: 1817.4065\n",
            "Epoch 44/100\n",
            "2174/2174 [==============================] - 8s 4ms/sample - loss: 1203.8783\n",
            "Epoch 45/100\n",
            "2174/2174 [==============================] - 8s 4ms/sample - loss: 805.1346\n",
            "Epoch 46/100\n",
            "2174/2174 [==============================] - 8s 4ms/sample - loss: 600.8197\n",
            "Epoch 47/100\n",
            "2174/2174 [==============================] - 8s 4ms/sample - loss: 474.1229\n",
            "Epoch 48/100\n",
            "2174/2174 [==============================] - 8s 4ms/sample - loss: 381.5632\n",
            "Epoch 49/100\n",
            "2174/2174 [==============================] - 8s 4ms/sample - loss: 312.8099\n",
            "Epoch 50/100\n",
            "2174/2174 [==============================] - 8s 4ms/sample - loss: 267.0146\n",
            "Epoch 51/100\n",
            "2174/2174 [==============================] - 8s 4ms/sample - loss: 227.1909\n",
            "Epoch 52/100\n",
            "2174/2174 [==============================] - 8s 4ms/sample - loss: 198.1718\n",
            "Epoch 53/100\n",
            "2174/2174 [==============================] - 8s 4ms/sample - loss: 171.6895\n",
            "Epoch 54/100\n",
            "2174/2174 [==============================] - 8s 4ms/sample - loss: 159.1275\n",
            "Epoch 55/100\n",
            "2174/2174 [==============================] - 8s 4ms/sample - loss: 150.5027\n",
            "Epoch 56/100\n",
            "2174/2174 [==============================] - 8s 4ms/sample - loss: 140.4214\n",
            "Epoch 57/100\n",
            "2174/2174 [==============================] - 8s 4ms/sample - loss: 124.1114\n",
            "Epoch 58/100\n",
            "2174/2174 [==============================] - 8s 4ms/sample - loss: 121.3238\n",
            "Epoch 59/100\n",
            "2174/2174 [==============================] - 8s 4ms/sample - loss: 108.3135\n",
            "Epoch 60/100\n",
            "2174/2174 [==============================] - 8s 4ms/sample - loss: 105.9798\n",
            "Epoch 61/100\n",
            "2174/2174 [==============================] - 8s 4ms/sample - loss: 100.5290\n",
            "Epoch 62/100\n",
            "2174/2174 [==============================] - 8s 4ms/sample - loss: 91.8713\n",
            "Epoch 63/100\n",
            "2174/2174 [==============================] - 8s 4ms/sample - loss: 96.2166\n",
            "Epoch 64/100\n",
            "2174/2174 [==============================] - 8s 4ms/sample - loss: 83.9053\n",
            "Epoch 65/100\n",
            "2174/2174 [==============================] - 8s 4ms/sample - loss: 87.6291\n",
            "Epoch 66/100\n",
            "2174/2174 [==============================] - 8s 4ms/sample - loss: 82.3311\n",
            "Epoch 67/100\n",
            "2174/2174 [==============================] - 8s 4ms/sample - loss: 77.8825\n",
            "Epoch 68/100\n",
            "2174/2174 [==============================] - 8s 4ms/sample - loss: 72.8864\n",
            "Epoch 69/100\n",
            "2174/2174 [==============================] - 8s 4ms/sample - loss: 71.9520\n",
            "Epoch 70/100\n",
            "2174/2174 [==============================] - 8s 4ms/sample - loss: 75.2273\n",
            "Epoch 71/100\n",
            "2174/2174 [==============================] - 8s 4ms/sample - loss: 64.0879\n",
            "Epoch 72/100\n",
            "2174/2174 [==============================] - 8s 4ms/sample - loss: 61.4110\n",
            "Epoch 73/100\n",
            "2174/2174 [==============================] - 8s 4ms/sample - loss: 59.7396\n",
            "Epoch 74/100\n",
            "2174/2174 [==============================] - 8s 4ms/sample - loss: 62.9502\n",
            "Epoch 75/100\n",
            "2174/2174 [==============================] - 8s 4ms/sample - loss: 56.4478\n",
            "Epoch 76/100\n",
            "2174/2174 [==============================] - 8s 4ms/sample - loss: 62.8593\n",
            "Epoch 77/100\n",
            "2174/2174 [==============================] - 8s 4ms/sample - loss: 59.3636\n",
            "Epoch 78/100\n",
            "2174/2174 [==============================] - 8s 4ms/sample - loss: 53.3354\n",
            "Epoch 79/100\n",
            "2174/2174 [==============================] - 8s 4ms/sample - loss: 53.0167\n",
            "Epoch 80/100\n",
            "2174/2174 [==============================] - 8s 4ms/sample - loss: 51.3926\n",
            "Epoch 81/100\n",
            "2174/2174 [==============================] - 8s 4ms/sample - loss: 56.5215\n",
            "Epoch 82/100\n",
            "2174/2174 [==============================] - 8s 4ms/sample - loss: 49.6834\n",
            "Epoch 83/100\n",
            "2174/2174 [==============================] - 8s 4ms/sample - loss: 52.4348\n",
            "Epoch 84/100\n",
            "2174/2174 [==============================] - 8s 4ms/sample - loss: 56.0727\n",
            "Epoch 85/100\n",
            "2174/2174 [==============================] - 8s 4ms/sample - loss: 50.7681\n",
            "Epoch 86/100\n",
            "2174/2174 [==============================] - 8s 4ms/sample - loss: 52.7720\n",
            "Epoch 87/100\n",
            "2174/2174 [==============================] - 8s 4ms/sample - loss: 50.5204\n",
            "Epoch 88/100\n",
            "2174/2174 [==============================] - 8s 4ms/sample - loss: 51.9079\n",
            "Epoch 89/100\n",
            "2174/2174 [==============================] - 8s 4ms/sample - loss: 48.0469\n",
            "Epoch 90/100\n",
            "2174/2174 [==============================] - 8s 4ms/sample - loss: 46.2893\n",
            "Epoch 91/100\n",
            "2174/2174 [==============================] - 8s 4ms/sample - loss: 52.8424\n",
            "Epoch 92/100\n",
            "2174/2174 [==============================] - 8s 4ms/sample - loss: 47.5977\n",
            "Epoch 93/100\n",
            "2174/2174 [==============================] - 8s 4ms/sample - loss: 46.4969\n",
            "Epoch 94/100\n",
            "2174/2174 [==============================] - 8s 4ms/sample - loss: 48.1380\n",
            "Epoch 95/100\n",
            "2174/2174 [==============================] - 8s 4ms/sample - loss: 48.9256\n",
            "Epoch 96/100\n",
            "2174/2174 [==============================] - 8s 4ms/sample - loss: 47.3544\n",
            "Epoch 97/100\n",
            "2174/2174 [==============================] - 8s 4ms/sample - loss: 45.7355\n",
            "Epoch 98/100\n",
            "2174/2174 [==============================] - 8s 4ms/sample - loss: 45.6636\n",
            "Epoch 99/100\n",
            "2174/2174 [==============================] - 8s 4ms/sample - loss: 41.2467\n",
            "Epoch 100/100\n",
            "2174/2174 [==============================] - 8s 4ms/sample - loss: 44.7994\n"
          ],
          "name": "stdout"
        },
        {
          "output_type": "execute_result",
          "data": {
            "text/plain": [
              "<tensorflow.python.keras.callbacks.History at 0x7ff78f9cca20>"
            ]
          },
          "metadata": {
            "tags": []
          },
          "execution_count": 25
        }
      ]
    },
    {
      "metadata": {
        "id": "_PIc4ONykulr",
        "colab_type": "code",
        "outputId": "09eae3ff-6078-449f-cd00-746fe332a5db",
        "colab": {
          "base_uri": "https://localhost:8080/",
          "height": 51
        }
      },
      "cell_type": "code",
      "source": [
        "model.evaluate(x_train, y_train)"
      ],
      "execution_count": 26,
      "outputs": [
        {
          "output_type": "stream",
          "text": [
            "2174/2174 [==============================] - 3s 2ms/sample - loss: 15.1254\n"
          ],
          "name": "stdout"
        },
        {
          "output_type": "execute_result",
          "data": {
            "text/plain": [
              "15.125399879939861"
            ]
          },
          "metadata": {
            "tags": []
          },
          "execution_count": 26
        }
      ]
    },
    {
      "metadata": {
        "id": "H-GbVfnLed2H",
        "colab_type": "code",
        "outputId": "f351c5e1-9901-4be2-dc7a-5605b91b0cff",
        "colab": {
          "base_uri": "https://localhost:8080/",
          "height": 660
        }
      },
      "cell_type": "code",
      "source": [
        "# Plot the result\n",
        "y_pred = []\n",
        "x_test_copy = x_test\n",
        "\n",
        "for i in range(0, y_test.shape[0]):\n",
        "  x_test_temp = np.reshape(x_test_copy, (1, day, 1))\n",
        "  temp = model.predict(x_test_temp)\n",
        "  y_pred.append(temp[0][0])\n",
        "  \n",
        "  x_test_copy = np.append(x_test_copy, temp)[1:day+1]\n",
        "  \n",
        "y_pred = np.asarray(y_pred)\n",
        "test_set['Forcasted'] = pd.DataFrame(y_pred, columns=['Forcasted'])\n",
        "\n",
        "plt.figure(figsize=(16,10))\n",
        "plt.title('Results')\n",
        "plt.xlabel(\"Date (Blue line: Actual close price, Red line: Forcasted close price)\")\n",
        "plt.ylabel('Close')\n",
        "plt.plot(test_set['Date'], test_set['Close'], 'b')\n",
        "plt.plot(test_set['Date'], test_set['Forcasted'], 'r')\n",
        "plt.xticks(rotation=60)\n",
        "plt.show()\n",
        "\n",
        "test_set = test_set.drop(columns=['Forcasted'])"
      ],
      "execution_count": 28,
      "outputs": [
        {
          "output_type": "display_data",
          "data": {
            "image/png": "[encoded data removed]",
            "text/plain": [
              "<Figure size 1152x720 with 1 Axes>"
            ]
          },
          "metadata": {
            "tags": []
          }
        }
      ]
    },
    {
      "metadata": {
        "id": "tuG41e-fqmdM",
        "colab_type": "code",
        "colab": {}
      },
      "cell_type": "code",
      "source": [
        ""
      ],
      "execution_count": 0,
      "outputs": []
    }
  ]
}